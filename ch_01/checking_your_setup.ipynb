{
 "cells": [
  {
   "cell_type": "markdown",
   "metadata": {
    "pycharm": {
     "name": "#%% md\n"
    }
   },
   "source": [
    "# Checking your setup\n",
    "Run through this notebook to make sure your environment is properly setup. Be sure to launch Jupyter from inside the virtual environment."
   ]
  },
  {
   "cell_type": "code",
   "execution_count": 1,
   "metadata": {
    "pycharm": {
     "name": "#%%\n"
    }
   },
   "outputs": [
    {
     "name": "stdout",
     "output_type": "stream",
     "text": [
      "Using Python in C:\\Users\\Sajad\\PycharmProjects\\test\\venv:\n",
      "\u001B[42m[ OK ]\u001B[0m Python is version 3.10.2 (tags/v3.10.2:a58ebcc, Jan 17 2022, 14:12:15) [MSC v.1929 64 bit (AMD64)]\n",
      "\n",
      "\u001B[42m[ OK ]\u001B[0m graphviz\n",
      "\u001B[42m[ OK ]\u001B[0m imblearn\n",
      "\u001B[42m[ OK ]\u001B[0m ipympl\n",
      "\u001B[42m[ OK ]\u001B[0m jupyterlab\n",
      "\u001B[41m[FAIL]\u001B[0m matplotlib version 3.3.2 is required, but 3.5.2 installed.\n",
      "\u001B[41m[FAIL]\u001B[0m numpy version >= 1.19.2 and <= 1.19.4 is required, but 1.22.4 installed.\n",
      "\u001B[41m[FAIL]\u001B[0m pandas version 1.2.0 is required, but 1.4.3 installed.\n",
      "\u001B[42m[ OK ]\u001B[0m requests\n",
      "\u001B[41m[FAIL]\u001B[0m sklearn version 0.23.2 is required, but 1.1.1 installed.\n",
      "\u001B[42m[ OK ]\u001B[0m scipy\n",
      "\u001B[42m[ OK ]\u001B[0m seaborn\n",
      "\u001B[42m[ OK ]\u001B[0m sqlalchemy\n",
      "\u001B[41m[FAIL]\u001B[0m statsmodels version >= 0.11.1 and <= 0.12.1 is required, but 0.13.2 installed.\n",
      "\u001B[42m[ OK ]\u001B[0m wheel\n",
      "\u001B[41m[FAIL]\u001B[0m login_attempt_simulator not installed.\n",
      "\u001B[41m[FAIL]\u001B[0m ml_utils not installed.\n",
      "\u001B[41m[FAIL]\u001B[0m stock_analysis not installed.\n",
      "\u001B[41m[FAIL]\u001B[0m visual_aids not installed.\n"
     ]
    }
   ],
   "source": [
    "from check_environment import run_checks\n",
    "run_checks()"
   ]
  },
  {
   "cell_type": "markdown",
   "metadata": {
    "pycharm": {
     "name": "#%% md\n"
    }
   },
   "source": [
    "*Note: Adapted from Andreas Mueller's [`check_env.ipynb` notebook](https://github.com/amueller/ml-workshop-1-of-4/blob/master/check_env.ipynb).*\n",
    "\n",
    "<hr>\n",
    "<div style=\"overflow: hidden; margin-bottom: 10px;\">\n",
    "    <div style=\"float: left;\">\n",
    "         <a href=\"./introduction_to_data_analysis.ipynb\">\n",
    "            <button>&#8592; Introduction to Data Analysis</button>\n",
    "        </a>\n",
    "    </div>\n",
    "    <div style=\"float: right;\">\n",
    "        <a href=\"./python_101.ipynb\">\n",
    "            <button>Python 101</button>\n",
    "        </a>\n",
    "        <a href=\"./exercises.ipynb\">\n",
    "            <button>Exercises &#8594;</button>\n",
    "        </a>\n",
    "    </div>\n",
    "</div>\n",
    "<hr>"
   ]
  }
 ],
 "metadata": {
  "kernelspec": {
   "display_name": "Python 3",
   "language": "python",
   "name": "python3"
  },
  "language_info": {
   "codemirror_mode": {
    "name": "ipython",
    "version": 3
   },
   "file_extension": ".py",
   "mimetype": "text/x-python",
   "name": "python",
   "nbconvert_exporter": "python",
   "pygments_lexer": "ipython3",
   "version": "3.7.3"
  }
 },
 "nbformat": 4,
 "nbformat_minor": 4
}